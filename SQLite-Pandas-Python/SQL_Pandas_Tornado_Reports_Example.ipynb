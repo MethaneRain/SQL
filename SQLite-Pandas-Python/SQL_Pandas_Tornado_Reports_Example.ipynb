{
 "cells": [
  {
   "cell_type": "code",
   "execution_count": 16,
   "metadata": {},
   "outputs": [],
   "source": [
    "import sqlite3\n",
    "import numpy as np"
   ]
  },
  {
   "cell_type": "code",
   "execution_count": 10,
   "metadata": {},
   "outputs": [
    {
     "name": "stdout",
     "output_type": "stream",
     "text": [
      "Opened database successfully\n",
      "Table created successfully\n"
     ]
    }
   ],
   "source": [
    "conn = sqlite3.connect('test_rpts.db')\n",
    "print(\"Opened database successfully\")\n",
    "\n",
    "# uncomment if creating a new file\n",
    "#conn.execute('''CREATE TABLE REPORTS\n",
    "#         (TIME     INT            NOT NULL);''')\n",
    "#print(\"Table created successfully\")"
   ]
  },
  {
   "cell_type": "code",
   "execution_count": 11,
   "metadata": {},
   "outputs": [],
   "source": [
    "import pandas as pd\n",
    "df = pd.read_csv('190924_rpts_torn.csv',parse_dates=True)\n"
   ]
  },
  {
   "cell_type": "code",
   "execution_count": 12,
   "metadata": {},
   "outputs": [],
   "source": [
    "con = sqlite3.connect(\"test_rpts.db\")\n",
    "\n",
    "df.to_sql(\"storms\", con, if_exists='replace', index=False)"
   ]
  },
  {
   "cell_type": "code",
   "execution_count": 58,
   "metadata": {},
   "outputs": [
    {
     "name": "stdout",
     "output_type": "stream",
     "text": [
      "['TWO LANDSPOUT TORNADOES WERE OBSERVED NORTH OF SIERRA BLANCA. BOTH LANDSPOUTS LASTED AN UNKNOWN AMOUNT OF TIME. NO INJURIES OR DAMAGE WERE ASSOCIATED WITH EITHER LANDSP (EPZ)'\n",
      " 'BRIEF ROPE TORNADO. STILL EXTREME ROTATION TO WALL CLOUD. (FSD)' '(FSD)'\n",
      " 'TWO BRIEF TOUCHDOWNS. (OAX)'\n",
      " 'TWO BRIEF TOUCHDOWNS OF A TORNADO IN A FIELD. (OAX)'\n",
      " 'BRIEF ROPE TORNADO LASTING LESS THAN MINUTE REPORTED BY STORM CHASER SOUTHWEST OF ISABEL. (DDC)'\n",
      " '*** 2 INJ *** A TORNADO SPUN UP JUST EAST OF ELK MOUND AND RAPIDLY BECAME AN EF3 AS IT DESTROYED SEVERAL STRUCTURES NEAR WI-29 AND CR M. PINE TREES WERE LEVELED... SOME (MPX)'\n",
      " 'CONFIRMED TORNADO ON THE GROUND EAST OF ELK MOUND... WI. (MPX)'\n",
      " 'EF0 TORNADO CONFIRMED IN LAKE CITY. DAMAGE TO NUMEROUS TREES IN A PATH FROM N. 10TH ST. INTO LAKE PEPIN... NEAR W. LYON AVE. AND THE MARINA. TREES FELL ON HOMES AND MOB (ARX)'\n",
      " 'TORNADO TRACKED FROM SOUTH SOUTHWEST OF GREENWOOD TO WEST OF LOYAL FOR APPROX 5 MIN DAMAGING TREES... BARNS... AND SILOS (ARX)']\n"
     ]
    }
   ],
   "source": [
    "df = pd.read_sql_query(\"SELECT * FROM storms \",con)\n",
    "n = np.array(df['Comments'].values)\n",
    "print(n)"
   ]
  },
  {
   "cell_type": "code",
   "execution_count": 56,
   "metadata": {},
   "outputs": [],
   "source": [
    "import numpy as np\n",
    "inj = [List[i] for i,item in enumerate(n) if \"INJ ***\" in item]"
   ]
  },
  {
   "cell_type": "code",
   "execution_count": 59,
   "metadata": {},
   "outputs": [
    {
     "data": {
      "text/plain": [
       "['*** 2 INJ *** A TORNADO SPUN UP JUST EAST OF ELK MOUND AND RAPIDLY BECAME AN EF3 AS IT DESTROYED SEVERAL STRUCTURES NEAR WI-29 AND CR M. PINE TREES WERE LEVELED... SOME (MPX)']"
      ]
     },
     "execution_count": 59,
     "metadata": {},
     "output_type": "execute_result"
    }
   ],
   "source": [
    "inj"
   ]
  },
  {
   "cell_type": "code",
   "execution_count": null,
   "metadata": {},
   "outputs": [],
   "source": []
  }
 ],
 "metadata": {
  "kernelspec": {
   "display_name": "Python 3",
   "language": "python",
   "name": "python3"
  },
  "language_info": {
   "codemirror_mode": {
    "name": "ipython",
    "version": 3
   },
   "file_extension": ".py",
   "mimetype": "text/x-python",
   "name": "python",
   "nbconvert_exporter": "python",
   "pygments_lexer": "ipython3",
   "version": "3.7.5"
  }
 },
 "nbformat": 4,
 "nbformat_minor": 2
}
